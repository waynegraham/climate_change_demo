{
 "cells": [
  {
   "cell_type": "code",
   "execution_count": 1,
   "metadata": {},
   "outputs": [
    {
     "name": "stdout",
     "output_type": "stream",
     "text": [
      "Requirement already satisfied: tabulate in /Users/wgraham/.pyenv/versions/3.9.13/lib/python3.9/site-packages (0.9.0)\n",
      "Requirement already satisfied: scikit-learn in /Users/wgraham/.pyenv/versions/3.9.13/lib/python3.9/site-packages (1.1.3)\n",
      "Requirement already satisfied: pytesseract in /Users/wgraham/.pyenv/versions/3.9.13/lib/python3.9/site-packages (0.3.10)\n",
      "Requirement already satisfied: pandas in /Users/wgraham/.pyenv/versions/3.9.13/lib/python3.9/site-packages (1.4.3)\n",
      "Requirement already satisfied: numpy in /Users/wgraham/.pyenv/versions/3.9.13/lib/python3.9/site-packages (1.23.1)\n",
      "Requirement already satisfied: opencv-python in /Users/wgraham/.pyenv/versions/3.9.13/lib/python3.9/site-packages (4.6.0.66)\n",
      "Requirement already satisfied: imutils in /Users/wgraham/.pyenv/versions/3.9.13/lib/python3.9/site-packages (0.5.4)\n",
      "Requirement already satisfied: threadpoolctl>=2.0.0 in /Users/wgraham/.pyenv/versions/3.9.13/lib/python3.9/site-packages (from scikit-learn) (3.1.0)\n",
      "Requirement already satisfied: joblib>=1.0.0 in /Users/wgraham/.pyenv/versions/3.9.13/lib/python3.9/site-packages (from scikit-learn) (1.2.0)\n",
      "Requirement already satisfied: scipy>=1.3.2 in /Users/wgraham/.pyenv/versions/3.9.13/lib/python3.9/site-packages (from scikit-learn) (1.9.3)\n",
      "Requirement already satisfied: Pillow>=8.0.0 in /Users/wgraham/.pyenv/versions/3.9.13/lib/python3.9/site-packages (from pytesseract) (9.3.0)\n",
      "Requirement already satisfied: packaging>=21.3 in /Users/wgraham/.local/lib/python3.9/site-packages (from pytesseract) (21.3)\n",
      "Requirement already satisfied: pytz>=2020.1 in /Users/wgraham/.pyenv/versions/3.9.13/lib/python3.9/site-packages (from pandas) (2022.1)\n",
      "Requirement already satisfied: python-dateutil>=2.8.1 in /Users/wgraham/.pyenv/versions/3.9.13/lib/python3.9/site-packages (from pandas) (2.8.2)\n",
      "Requirement already satisfied: pyparsing!=3.0.5,>=2.0.2 in /Users/wgraham/.local/lib/python3.9/site-packages (from packaging>=21.3->pytesseract) (3.0.9)\n",
      "Requirement already satisfied: six>=1.5 in /Users/wgraham/.pyenv/versions/3.9.13/lib/python3.9/site-packages (from python-dateutil>=2.8.1->pandas) (1.16.0)\n"
     ]
    }
   ],
   "source": [
    "!pip install tabulate scikit-learn pytesseract pandas numpy opencv-python imutils"
   ]
  },
  {
   "cell_type": "code",
   "execution_count": 1,
   "metadata": {},
   "outputs": [],
   "source": [
    "from sklearn.cluster import AgglomerativeClustering\n",
    "from pytesseract import Output\n",
    "from tabulate import tabulate\n",
    "import pandas as pd\n",
    "import numpy as np\n",
    "import pytesseract\n",
    "import argparse\n",
    "import imutils\n",
    "import cv2"
   ]
  },
  {
   "cell_type": "code",
   "execution_count": 2,
   "metadata": {},
   "outputs": [
    {
     "name": "stderr",
     "output_type": "stream",
     "text": [
      "usage: ipykernel_launcher.py [-h] [-i IMAGE] [-o OUTPUT] [-c MIN_CONF]\n",
      "                             [-d DIST_THRESH] [-s MIN_SIZE]\n",
      "ipykernel_launcher.py: error: unrecognized arguments: -f /Users/wgraham/Library/Jupyter/runtime/kernel-8554e515-36fb-47f4-89b9-b4de4b8fce9e.json\n"
     ]
    },
    {
     "ename": "SystemExit",
     "evalue": "2",
     "output_type": "error",
     "traceback": [
      "An exception has occurred, use %tb to see the full traceback.\n",
      "\u001b[0;31mSystemExit\u001b[0m\u001b[0;31m:\u001b[0m 2\n"
     ]
    },
    {
     "name": "stderr",
     "output_type": "stream",
     "text": [
      "/Users/wgraham/.pyenv/versions/3.9.13/lib/python3.9/site-packages/IPython/core/interactiveshell.py:3386: UserWarning: To exit: use 'exit', 'quit', or Ctrl-D.\n",
      "  warn(\"To exit: use 'exit', 'quit', or Ctrl-D.\", stacklevel=1)\n"
     ]
    }
   ],
   "source": [
    "# https://pyimagesearch.com/2022/02/28/multi-column-table-ocr/\n",
    "ap = argparse.ArgumentParser()\n",
    "ap.add_argument(\"-i\", \"--image\", default='table.jpg',\n",
    "\thelp=\"path to input image to be OCR'd\")\n",
    "ap.add_argument(\"-o\", \"--output\", default='output.png',\n",
    "\thelp=\"path to output CSV file\")\n",
    "ap.add_argument(\"-c\", \"--min-conf\", type=int, default=0,\n",
    "\thelp=\"minimum confidence value to filter weak text detection\")\n",
    "ap.add_argument(\"-d\", \"--dist-thresh\", type=float, default=25.0,\n",
    "\thelp=\"distance threshold cutoff for clustering\")\n",
    "ap.add_argument(\"-s\", \"--min-size\", type=int, default=2,\n",
    "\thelp=\"minimum cluster size (i.e., # of entries in column)\")\n",
    "args = vars(ap.parse_args())"
   ]
  },
  {
   "cell_type": "code",
   "execution_count": 3,
   "metadata": {},
   "outputs": [],
   "source": [
    "np.random.seed(45)\n",
    "\n",
    "image = cv2.imread('table.jpg')\n",
    "gray = cv2.cvtColor(image, cv2.COLOR_BGR2GRAY)"
   ]
  },
  {
   "cell_type": "code",
   "execution_count": 4,
   "metadata": {},
   "outputs": [],
   "source": [
    "kernel = cv2.getStructuringElement(cv2.MORPH_RECT, (51,11))\n",
    "gray = cv2.GaussianBlur(gray, (3, 3), 0)\n",
    "blackhat = cv2.morphologyEx(gray, cv2.MORPH_BLACKHAT, kernel)\n",
    "\n",
    "grad = cv2.Sobel(blackhat, ddepth=cv2.CV_32F, dx=1, dy=0, ksize=-1)\n",
    "grad = np.absolute(grad)\n",
    "(minVal, maxVal) = (np.min(grad), np.max(grad))\n",
    "\n",
    "grad = (grad - minVal) / (maxVal - minVal)\n",
    "grad = (grad * 255).astype('uint8')\n",
    "\n",
    "\n",
    "grad = cv2.morphologyEx(grad, cv2.MORPH_CLOSE, kernel)\n",
    "thresh = cv2.threshold(grad, 0, 255, cv2.THRESH_BINARY | cv2.THRESH_OTSU)[1]\n",
    "thresh = cv2.dilate(thresh, None, iterations=3)\n",
    "cv2.imshow(\"Thresh\", thresh)"
   ]
  },
  {
   "cell_type": "code",
   "execution_count": 5,
   "metadata": {},
   "outputs": [],
   "source": [
    "# find contours in the thresholded image and grab the largest one,\n",
    "# which we will assume is the stats table\n",
    "cnts = cv2.findContours(thresh.copy(), cv2.RETR_EXTERNAL,\n",
    "\tcv2.CHAIN_APPROX_SIMPLE)\n",
    "cnts = imutils.grab_contours(cnts)\n",
    "tableCnt = max(cnts, key=cv2.contourArea)\n",
    "# compute the bounding box coordinates of the stats table and extract\n",
    "# the table from the input image\n",
    "(x, y, w, h) = cv2.boundingRect(tableCnt)\n",
    "table = image[y:y + h, x:x + w]\n",
    "# show the original input image and extracted table to our screen\n",
    "cv2.imshow(\"Input\", image)\n",
    "cv2.imshow(\"Table\", table)"
   ]
  },
  {
   "cell_type": "code",
   "execution_count": 6,
   "metadata": {},
   "outputs": [],
   "source": [
    "# set the PSM mode to detect sparse text, and then localize text in\n",
    "# the table\n",
    "options = \"--psm 6\"\n",
    "results = pytesseract.image_to_data(\n",
    "\tcv2.cvtColor(table, cv2.COLOR_BGR2RGB),\n",
    "\tconfig=options,\n",
    "\toutput_type=Output.DICT)\n",
    "# initialize a list to store the (x, y)-coordinates of the detected\n",
    "# text along with the OCR'd text itself\n",
    "coords = []\n",
    "ocrText = []"
   ]
  },
  {
   "cell_type": "code",
   "execution_count": 7,
   "metadata": {},
   "outputs": [],
   "source": [
    "# loop over each of the individual text localizations\n",
    "for i in range(0, len(results[\"text\"])):\n",
    "\t# extract the bounding box coordinates of the text region from\n",
    "\t# the current result\n",
    "\tx = results[\"left\"][i]\n",
    "\ty = results[\"top\"][i]\n",
    "\tw = results[\"width\"][i]\n",
    "\th = results[\"height\"][i]\n",
    "\t# extract the OCR text itself along with the confidence of the\n",
    "\t# text localization\n",
    "\ttext = results[\"text\"][i]\n",
    "\tconf = int(results[\"conf\"][i])\n",
    "\t# filter out weak confidence text localizations\n",
    "\t"
   ]
  },
  {
   "cell_type": "code",
   "execution_count": 8,
   "metadata": {},
   "outputs": [
    {
     "ename": "NameError",
     "evalue": "name 'args' is not defined",
     "output_type": "error",
     "traceback": [
      "\u001b[0;31m---------------------------------------------------------------------------\u001b[0m",
      "\u001b[0;31mNameError\u001b[0m                                 Traceback (most recent call last)",
      "Cell \u001b[0;32mIn [8], line 9\u001b[0m\n\u001b[1;32m      3\u001b[0m xCoords \u001b[39m=\u001b[39m [(c[\u001b[39m0\u001b[39m], \u001b[39m0\u001b[39m) \u001b[39mfor\u001b[39;00m c \u001b[39min\u001b[39;00m coords]\n\u001b[1;32m      4\u001b[0m \u001b[39m# apply hierarchical agglomerative clustering to the coordinates\u001b[39;00m\n\u001b[1;32m      5\u001b[0m clustering \u001b[39m=\u001b[39m AgglomerativeClustering(\n\u001b[1;32m      6\u001b[0m \tn_clusters\u001b[39m=\u001b[39m\u001b[39mNone\u001b[39;00m,\n\u001b[1;32m      7\u001b[0m \taffinity\u001b[39m=\u001b[39m\u001b[39m\"\u001b[39m\u001b[39mmanhattan\u001b[39m\u001b[39m\"\u001b[39m,\n\u001b[1;32m      8\u001b[0m \tlinkage\u001b[39m=\u001b[39m\u001b[39m\"\u001b[39m\u001b[39mcomplete\u001b[39m\u001b[39m\"\u001b[39m,\n\u001b[0;32m----> 9\u001b[0m \tdistance_threshold\u001b[39m=\u001b[39margs[\u001b[39m\"\u001b[39m\u001b[39mdist_thresh\u001b[39m\u001b[39m\"\u001b[39m])\n\u001b[1;32m     10\u001b[0m clustering\u001b[39m.\u001b[39mfit(xCoords)\n\u001b[1;32m     11\u001b[0m \u001b[39m# initialize our list of sorted clusters\u001b[39;00m\n",
      "\u001b[0;31mNameError\u001b[0m: name 'args' is not defined"
     ]
    }
   ],
   "source": [
    "# extract all x-coordinates from the text bounding boxes, setting the\n",
    "# y-coordinate value to zero\n",
    "xCoords = [(c[0], 0) for c in coords]\n",
    "# apply hierarchical agglomerative clustering to the coordinates\n",
    "clustering = AgglomerativeClustering(\n",
    "\tn_clusters=None,\n",
    "\taffinity=\"manhattan\",\n",
    "\tlinkage=\"complete\",\n",
    "\tdistance_threshold=args[\"dist_thresh\"])\n",
    "clustering.fit(xCoords)\n",
    "# initialize our list of sorted clusters\n",
    "sortedClusters = []"
   ]
  }
 ],
 "metadata": {
  "kernelspec": {
   "display_name": "Python 3.9.13 64-bit ('3.9.13')",
   "language": "python",
   "name": "python3"
  },
  "language_info": {
   "codemirror_mode": {
    "name": "ipython",
    "version": 3
   },
   "file_extension": ".py",
   "mimetype": "text/x-python",
   "name": "python",
   "nbconvert_exporter": "python",
   "pygments_lexer": "ipython3",
   "version": "3.9.13"
  },
  "orig_nbformat": 4,
  "vscode": {
   "interpreter": {
    "hash": "687b123acf2842a17ca56e9a56ef1f6619a18eda0d120a25c170a5a59690d9ce"
   }
  }
 },
 "nbformat": 4,
 "nbformat_minor": 2
}
